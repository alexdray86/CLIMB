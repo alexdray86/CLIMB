{
 "cells": [
  {
   "cell_type": "markdown",
   "metadata": {},
   "source": [
    "## CLIMB Deconvolution - In-Vitro dataset\n",
    "\n",
    "CLIMB infers cell-subtype proportions through a linear combination of single-cell expression. By aggregating coefficients by cell subtype, it predicts the composition of a cell mix. We generated in vitro pools containing various ratios of HL60, SUDHL4, K562, and THP1 human leukemic cells. We use these pre-determined ratios as ground truth to assess the predictive value of CLIMB deconvolution."
   ]
  },
  {
   "cell_type": "code",
   "execution_count": 4,
   "metadata": {},
   "outputs": [],
   "source": [
    "library(climb) ; library(Biobase)"
   ]
  },
  {
   "cell_type": "code",
   "execution_count": 8,
   "metadata": {},
   "outputs": [],
   "source": [
    "# METRICS FUNCTIONS\n",
    "num <- function(x){ return(as.numeric(as.character(x))) }\n",
    "rmse <- function(tr, pr){ return( sqrt( sum((tr - pr)^2) / length(tr) ) ) }\n",
    "pcor <- function(tr, pr){ return( cor(tr, pr, method = 'pearson') ) }"
   ]
  },
  {
   "cell_type": "markdown",
   "metadata": {},
   "source": [
    "## Load data\n",
    "\n",
    "We load the data stored as `ExpressionSet` object (library `xbioc` required). We will load the scRNA-seq reference dataset in the object `sc.es` and the bulk RNA-seq from six mixtures in `bulk.es`. "
   ]
  },
  {
   "cell_type": "code",
   "execution_count": 5,
   "metadata": {},
   "outputs": [
    {
     "data": {
      "text/html": [
       "<style>\n",
       ".dl-inline {width: auto; margin:0; padding: 0}\n",
       ".dl-inline>dt, .dl-inline>dd {float: none; width: auto; display: inline-block}\n",
       ".dl-inline>dt::after {content: \":\\0020\"; padding-right: .5ex}\n",
       ".dl-inline>dt:not(:first-of-type) {padding-left: .5ex}\n",
       "</style><dl class=dl-inline><dt>Features</dt><dd>6169</dd><dt>Samples</dt><dd>2342</dd></dl>\n"
      ],
      "text/latex": [
       "\\begin{description*}\n",
       "\\item[Features] 6169\n",
       "\\item[Samples] 2342\n",
       "\\end{description*}\n"
      ],
      "text/markdown": [
       "Features\n",
       ":   6169Samples\n",
       ":   2342\n",
       "\n"
      ],
      "text/plain": [
       "Features  Samples \n",
       "    6169     2342 "
      ]
     },
     "metadata": {},
     "output_type": "display_data"
    }
   ],
   "source": [
    "# Load ExpressionSet object containing scRNA-seq data from in-vitro cell mixes\n",
    "sc.es = readRDS(\"data/invitro_sc_es.RDS\")\n",
    "dim(sc.es)"
   ]
  },
  {
   "cell_type": "markdown",
   "metadata": {},
   "source": [
    "2342 cells were sequenced and 6169 genes kept after filtering low counts with default Seurat pipeline "
   ]
  },
  {
   "cell_type": "code",
   "execution_count": 6,
   "metadata": {},
   "outputs": [
    {
     "data": {
      "text/html": [
       "<style>\n",
       ".dl-inline {width: auto; margin:0; padding: 0}\n",
       ".dl-inline>dt, .dl-inline>dd {float: none; width: auto; display: inline-block}\n",
       ".dl-inline>dt::after {content: \":\\0020\"; padding-right: .5ex}\n",
       ".dl-inline>dt:not(:first-of-type) {padding-left: .5ex}\n",
       "</style><dl class=dl-inline><dt>Features</dt><dd>6169</dd><dt>Samples</dt><dd>6</dd></dl>\n"
      ],
      "text/latex": [
       "\\begin{description*}\n",
       "\\item[Features] 6169\n",
       "\\item[Samples] 6\n",
       "\\end{description*}\n"
      ],
      "text/markdown": [
       "Features\n",
       ":   6169Samples\n",
       ":   6\n",
       "\n"
      ],
      "text/plain": [
       "Features  Samples \n",
       "    6169        6 "
      ]
     },
     "metadata": {},
     "output_type": "display_data"
    }
   ],
   "source": [
    "# Load ExpressionSet object containing bulk RNA-seq data from in-vitro cell mixes\n",
    "bulk.es = readRDS(\"data/invitro_bulk_es.RDS\")\n",
    "dim(bulk.es)"
   ]
  },
  {
   "cell_type": "markdown",
   "metadata": {},
   "source": [
    "6 mixtures of cell lines with expression from 6169 genes"
   ]
  },
  {
   "cell_type": "code",
   "execution_count": 7,
   "metadata": {},
   "outputs": [
    {
     "data": {
      "text/html": [
       "<table class=\"dataframe\">\n",
       "<caption>A matrix: 6 × 4 of type dbl</caption>\n",
       "<thead>\n",
       "\t<tr><th></th><th scope=col>HL60</th><th scope=col>K562</th><th scope=col>SUDHL4</th><th scope=col>THP1</th></tr>\n",
       "</thead>\n",
       "<tbody>\n",
       "\t<tr><th scope=row>BULK1</th><td>0.2600</td><td>0.0900</td><td>0.3300</td><td>0.3200</td></tr>\n",
       "\t<tr><th scope=row>BULK2</th><td>0.5700</td><td>0.1100</td><td>0.0700</td><td>0.2500</td></tr>\n",
       "\t<tr><th scope=row>BULK3</th><td>0.3333</td><td>0.2222</td><td>0.0000</td><td>0.4444</td></tr>\n",
       "\t<tr><th scope=row>BULK4</th><td>0.0500</td><td>0.0400</td><td>0.6100</td><td>0.3000</td></tr>\n",
       "\t<tr><th scope=row>BULK5</th><td>0.0198</td><td>0.3168</td><td>0.1881</td><td>0.4752</td></tr>\n",
       "\t<tr><th scope=row>BULK6</th><td>0.1200</td><td>0.2600</td><td>0.2000</td><td>0.4200</td></tr>\n",
       "</tbody>\n",
       "</table>\n"
      ],
      "text/latex": [
       "A matrix: 6 × 4 of type dbl\n",
       "\\begin{tabular}{r|llll}\n",
       "  & HL60 & K562 & SUDHL4 & THP1\\\\\n",
       "\\hline\n",
       "\tBULK1 & 0.2600 & 0.0900 & 0.3300 & 0.3200\\\\\n",
       "\tBULK2 & 0.5700 & 0.1100 & 0.0700 & 0.2500\\\\\n",
       "\tBULK3 & 0.3333 & 0.2222 & 0.0000 & 0.4444\\\\\n",
       "\tBULK4 & 0.0500 & 0.0400 & 0.6100 & 0.3000\\\\\n",
       "\tBULK5 & 0.0198 & 0.3168 & 0.1881 & 0.4752\\\\\n",
       "\tBULK6 & 0.1200 & 0.2600 & 0.2000 & 0.4200\\\\\n",
       "\\end{tabular}\n"
      ],
      "text/markdown": [
       "\n",
       "A matrix: 6 × 4 of type dbl\n",
       "\n",
       "| <!--/--> | HL60 | K562 | SUDHL4 | THP1 |\n",
       "|---|---|---|---|---|\n",
       "| BULK1 | 0.2600 | 0.0900 | 0.3300 | 0.3200 |\n",
       "| BULK2 | 0.5700 | 0.1100 | 0.0700 | 0.2500 |\n",
       "| BULK3 | 0.3333 | 0.2222 | 0.0000 | 0.4444 |\n",
       "| BULK4 | 0.0500 | 0.0400 | 0.6100 | 0.3000 |\n",
       "| BULK5 | 0.0198 | 0.3168 | 0.1881 | 0.4752 |\n",
       "| BULK6 | 0.1200 | 0.2600 | 0.2000 | 0.4200 |\n",
       "\n"
      ],
      "text/plain": [
       "      HL60   K562   SUDHL4 THP1  \n",
       "BULK1 0.2600 0.0900 0.3300 0.3200\n",
       "BULK2 0.5700 0.1100 0.0700 0.2500\n",
       "BULK3 0.3333 0.2222 0.0000 0.4444\n",
       "BULK4 0.0500 0.0400 0.6100 0.3000\n",
       "BULK5 0.0198 0.3168 0.1881 0.4752\n",
       "BULK6 0.1200 0.2600 0.2000 0.4200"
      ]
     },
     "metadata": {},
     "output_type": "display_data"
    }
   ],
   "source": [
    "# Load True cell line proportions (based on the volume of homogeneised cells pippeted in the mixture)\n",
    "true_prop = as.matrix(pData(bulk.es))\n",
    "true_prop"
   ]
  },
  {
   "cell_type": "code",
   "execution_count": 9,
   "metadata": {},
   "outputs": [
    {
     "ename": "ERROR",
     "evalue": "Error in pred_exprs[[k]] <- pred_expr: attempt to select less than one element in integerOneIndex\n",
     "output_type": "error",
     "traceback": [
      "Error in pred_exprs[[k]] <- pred_expr: attempt to select less than one element in integerOneIndex\nTraceback:\n",
      "1. climb(sc.es, bulk.es)"
     ]
    }
   ],
   "source": [
    "climb.res = climb(sc.es, bulk.es)"
   ]
  },
  {
   "cell_type": "code",
   "execution_count": 14,
   "metadata": {},
   "outputs": [],
   "source": [
    "y = num(exprs(bulk.es)[,1])"
   ]
  },
  {
   "cell_type": "code",
   "execution_count": 398,
   "metadata": {},
   "outputs": [
    {
     "name": "stderr",
     "output_type": "stream",
     "text": [
      "No id variables; using all as measure variables\n",
      "\n",
      "No id variables; using all as measure variables\n",
      "\n"
     ]
    },
    {
     "data": {
      "text/html": [
       "<strong>pdf:</strong> 2"
      ],
      "text/latex": [
       "\\textbf{pdf:} 2"
      ],
      "text/markdown": [
       "**pdf:** 2"
      ],
      "text/plain": [
       "pdf \n",
       "  2 "
      ]
     },
     "metadata": {},
     "output_type": "display_data"
    },
    {
     "data": {
      "image/png": "[encoded data removed]",
      "text/plain": [
       "plot without title"
      ]
     },
     "metadata": {
      "image/png": {
       "height": 180,
       "width": 240
      }
     },
     "output_type": "display_data"
    }
   ],
   "source": [
    "# Plot and display the results \n",
    "options(repr.plot.width=4, repr.plot.height=3)\n",
    "df_cor = cbind(reshape2::melt(data.frame(true_prop)), \n",
    "               reshape2::melt(data.frame(climb_sce_prop)))\n",
    "colnames(df_cor) = c('cell line', 'True Proportions', 'x', 'CLIMB predictions')\n",
    "g = ggplot(df_cor) + geom_abline(slope=1, linetype = \"dashed\", colour='cornflowerblue') + \n",
    "    geom_point(aes(y=`True Proportions`, x=`CLIMB predictions`, colour=`cell line`), size=3) + theme_classic2() + \n",
    "    scale_color_manual(values=c('navajowhite2',  'darkred', 'seagreen', 'grey58')) +\n",
    "    ylab('True Proportions') + xlab('CLIMB predictions')\n",
    "pdf(\"results/invitro_CLIMB_SCEnorm_deconvolution.pdf\", width=5, height=4) ; g ; dev.off()\n",
    "g"
   ]
  },
  {
   "cell_type": "code",
   "execution_count": 420,
   "metadata": {
    "scrolled": true
   },
   "outputs": [
    {
     "data": {
      "text/html": [
       "0.0562839646971244"
      ],
      "text/latex": [
       "0.0562839646971244"
      ],
      "text/markdown": [
       "0.0562839646971244"
      ],
      "text/plain": [
       "[1] 0.05628396"
      ]
     },
     "metadata": {},
     "output_type": "display_data"
    }
   ],
   "source": [
    "rmse(as.vector(true_prop), as.vector(climb_totExpr_prop))"
   ]
  }
 ],
 "metadata": {
  "jupytext": {
   "cell_metadata_filter": "-all",
   "formats": "ipynb,md",
   "main_language": "python"
  },
  "kernelspec": {
   "display_name": "R",
   "language": "R",
   "name": "ir"
  },
  "language_info": {
   "codemirror_mode": "r",
   "file_extension": ".r",
   "mimetype": "text/x-r-source",
   "name": "R",
   "pygments_lexer": "r",
   "version": "4.2.2"
  }
 },
 "nbformat": 4,
 "nbformat_minor": 4
}
